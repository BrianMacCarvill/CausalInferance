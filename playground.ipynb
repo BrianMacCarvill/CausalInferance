{
 "cells": [
  {
   "cell_type": "code",
   "execution_count": null,
   "id": "93607d0c",
   "metadata": {},
   "outputs": [
    {
     "name": "stdout",
     "output_type": "stream",
     "text": [
      "(array([[0.50224796]]), array([-0.00125102]))\n",
      "(array([[0.39893619]]), array([0.00237718]))\n",
      "(PearsonRResult(statistic=array([-7.89299182e-17]), pvalue=array([1.])), array([[ 0.07907131],\n",
      "       [-0.56977997],\n",
      "       [-0.60345796],\n",
      "       ...,\n",
      "       [-0.1431814 ],\n",
      "       [ 0.23227217],\n",
      "       [ 0.06132807]], shape=(100000, 1)), PearsonRResult(statistic=array([-8.65193334e-17]), pvalue=array([1.])), array([[ 0.64292364],\n",
      "       [-0.56870786],\n",
      "       [-0.44539438],\n",
      "       ...,\n",
      "       [-0.41866426],\n",
      "       [ 0.14454285],\n",
      "       [-0.78243743]], shape=(100000, 1)))\n"
     ]
    }
   ],
   "source": [
    "import numpy as np\n",
    "\n",
    "from numpy.random import normal, uniform\n",
    "\n",
    "import matplotlib.pyplot as plt\n",
    "\n",
    "from CausalInferance.methods import Causality\n",
    "\n",
    "from CausalInferance.xicor import xicor\n",
    "\n",
    "n = 100_000\n",
    "\n",
    "x = uniform(-1, 1, size = n)\n",
    "\n",
    "y = x/2 + uniform(-1, 1, size = n)\n",
    "\n",
    "x = x.reshape(-1, 1)\n",
    "\n",
    "y = y.reshape(-1, 1)\n",
    "\n",
    "a = Causality.is_causal_two_sided(x, y, return_residuals=True)\n",
    "\n",
    "print(a)"
   ]
  },
  {
   "cell_type": "code",
   "execution_count": null,
   "id": "b0fbe399",
   "metadata": {},
   "outputs": [],
   "source": [
    "from CausalInferance.inferance_test.information_geometric_causal_inferance import IGCI"
   ]
  },
  {
   "cell_type": "code",
   "execution_count": null,
   "id": "cbe94eb6",
   "metadata": {},
   "outputs": [
    {
     "name": "stdout",
     "output_type": "stream",
     "text": [
      "[9.83120013e-06 1.06365531e-05 1.26669254e-05 ... 2.00136964e-05\n",
      " 6.27744646e-05 3.08617861e-06]\n",
      "[1.52318126 0.12368167 0.51718107 ... 0.54253426 1.1055554  1.20523051]\n",
      "10.590207335775629\n",
      "[0.00483941 0.0008981  0.00037629 ... 0.00475061 0.0026162  0.00457169]\n",
      "[0.01505733 0.00536412 0.01623272 ... 0.00420891 0.00685103 0.00671984]\n",
      "10.0868853764862\n"
     ]
    }
   ],
   "source": [
    "# C_x->y\n",
    "print(IGCI.main(x, y))\n",
    "\n",
    "# C_y->x\n",
    "print(IGCI.main(y, x))"
   ]
  },
  {
   "cell_type": "code",
   "execution_count": null,
   "id": "a131cb2d",
   "metadata": {},
   "outputs": [],
   "source": [
    "from scipy.stats import pearsonr\n",
    "from scipy.stats import kendalltau"
   ]
  },
  {
   "cell_type": "code",
   "execution_count": null,
   "id": "616cae19",
   "metadata": {},
   "outputs": [
    {
     "data": {
      "text/plain": [
       "(PearsonRResult(statistic=array([1.23121999e-15]), pvalue=array([1.])),\n",
       " PearsonRResult(statistic=array([0.45670885]), pvalue=array([0.])),\n",
       " PearsonRResult(statistic=array([0.45670885]), pvalue=array([0.])),\n",
       " PearsonRResult(statistic=array([-7.3378803e-16]), pvalue=array([1.])))"
      ]
     },
     "execution_count": 5,
     "metadata": {},
     "output_type": "execute_result"
    }
   ],
   "source": [
    "pearsonr(a[1], x), pearsonr(a[3], x), pearsonr(a[1], y), pearsonr(a[3], y)"
   ]
  },
  {
   "cell_type": "code",
   "execution_count": null,
   "id": "e99357ea",
   "metadata": {},
   "outputs": [
    {
     "data": {
      "text/plain": [
       "(SignificanceResult(statistic=np.float64(-0.0016362436243624362), pvalue=np.float64(0.8061516845998764)),\n",
       " SignificanceResult(statistic=np.float64(0.30451149114911485), pvalue=np.float64(0.0)),\n",
       " SignificanceResult(statistic=np.float64(0.3024738473847385), pvalue=np.float64(0.0)),\n",
       " SignificanceResult(statistic=np.float64(0.00040140014001400137), pvalue=np.float64(0.9519967551183447)))"
      ]
     },
     "execution_count": 6,
     "metadata": {},
     "output_type": "execute_result"
    }
   ],
   "source": [
    "kendalltau(a[1], x), kendalltau(a[3], x), kendalltau(a[1], y), kendalltau(a[3], y)"
   ]
  },
  {
   "cell_type": "code",
   "execution_count": null,
   "id": "70406400",
   "metadata": {},
   "outputs": [
    {
     "data": {
      "text/plain": [
       "((np.float64(0.007013970070139708), np.float64(0.03975875138670804)),\n",
       " SignificanceResult(statistic=np.float64(0.00040140014001400137), pvalue=np.float64(0.9519967551183447)))"
      ]
     },
     "execution_count": 9,
     "metadata": {},
     "output_type": "execute_result"
    }
   ],
   "source": [
    "xicor(a[3], y), kendalltau(a[3], y)"
   ]
  },
  {
   "cell_type": "code",
   "execution_count": null,
   "id": "5e44c820",
   "metadata": {},
   "outputs": [
    {
     "data": {
      "text/plain": [
       "(np.float64(0.12752823127528234), np.float64(2.367198123296182e-223))"
      ]
     },
     "execution_count": 10,
     "metadata": {},
     "output_type": "execute_result"
    }
   ],
   "source": [
    "xicor(a[1], y)"
   ]
  },
  {
   "cell_type": "code",
   "execution_count": null,
   "id": "d85bc50a",
   "metadata": {},
   "outputs": [
    {
     "data": {
      "text/plain": [
       "(np.float64(0.12688152126881524), np.float64(4.068004156023525e-221))"
      ]
     },
     "execution_count": 11,
     "metadata": {},
     "output_type": "execute_result"
    }
   ],
   "source": [
    "xicor(a[3], x)"
   ]
  },
  {
   "cell_type": "code",
   "execution_count": null,
   "id": "d563be7d",
   "metadata": {},
   "outputs": [
    {
     "data": {
      "text/plain": [
       "(np.float64(0.00818982008189817), np.float64(0.020306714446073383))"
      ]
     },
     "execution_count": 12,
     "metadata": {},
     "output_type": "execute_result"
    }
   ],
   "source": [
    "xicor(a[1], x)"
   ]
  },
  {
   "cell_type": "markdown",
   "id": "289ef1fb",
   "metadata": {},
   "source": [
    "# MultiVariantInferance"
   ]
  },
  {
   "cell_type": "code",
   "execution_count": 121,
   "id": "56ab21fa",
   "metadata": {},
   "outputs": [],
   "source": [
    "import numpy as np\n",
    "from numpy.random import uniform\n",
    "from sklearn.linear_model import LinearRegression\n",
    "\n",
    "# Data\n",
    "n = 1000\n",
    "i = 10 \n",
    "\n",
    "iters = 10000\n",
    "\n",
    "tracker = 0\n",
    "\n",
    "for _ in range(iters):\n",
    "\n",
    "    x = uniform(-1, 1, size=(n, i))\n",
    "    y = x / 2 + uniform(-1, 1, size=(n, i))\n",
    "\n",
    "    model = LinearRegression()\n",
    "    model.fit(x, y)\n",
    "\n",
    "    cov_x = np.cov(x, rowvar=False)\n",
    "    cov_y = np.cov(y, rowvar=False)\n",
    "\n",
    "    numerator = (model.coef_ @ cov_x @ model.coef_.T).trace()\n",
    "    denumerator = (model.coef_ @ model.coef_.T).trace() * cov_x.trace()\n",
    "    r_x_y = numerator / denumerator\n",
    "\n",
    "    model = LinearRegression()\n",
    "    model.fit(y, x)\n",
    "\n",
    "    numerator = (model.coef_ @ cov_y @ model.coef_.T).trace()\n",
    "    denumerator = (model.coef_ @ model.coef_.T).trace() * cov_y.trace()\n",
    "    r_y_x = numerator / denumerator\n",
    "\n",
    "    if r_x_y>r_y_x:\n",
    "        tracker += 1"
   ]
  },
  {
   "cell_type": "code",
   "execution_count": 122,
   "id": "57f77ebf",
   "metadata": {},
   "outputs": [
    {
     "data": {
      "text/plain": [
       "4050"
      ]
     },
     "execution_count": 122,
     "metadata": {},
     "output_type": "execute_result"
    }
   ],
   "source": [
    "tracker"
   ]
  }
 ],
 "metadata": {
  "kernelspec": {
   "display_name": ".venv",
   "language": "python",
   "name": "python3"
  },
  "language_info": {
   "codemirror_mode": {
    "name": "ipython",
    "version": 3
   },
   "file_extension": ".py",
   "mimetype": "text/x-python",
   "name": "python",
   "nbconvert_exporter": "python",
   "pygments_lexer": "ipython3",
   "version": "3.12.3"
  }
 },
 "nbformat": 4,
 "nbformat_minor": 5
}
