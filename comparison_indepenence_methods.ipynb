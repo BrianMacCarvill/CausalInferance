{
 "cells": [
  {
   "cell_type": "markdown",
   "id": "81d187e3",
   "metadata": {},
   "source": [
    "# Imports"
   ]
  },
  {
   "cell_type": "code",
   "execution_count": 2,
   "id": "5472ff1c",
   "metadata": {},
   "outputs": [
    {
     "ename": "AttributeError",
     "evalue": "module 'importlib' has no attribute 'set_lazy_imports'",
     "output_type": "error",
     "traceback": [
      "\u001b[31m---------------------------------------------------------------------------\u001b[39m",
      "\u001b[31mAttributeError\u001b[39m                            Traceback (most recent call last)",
      "\u001b[36mCell\u001b[39m\u001b[36m \u001b[39m\u001b[32mIn[2]\u001b[39m\u001b[32m, line 7\u001b[39m\n\u001b[32m      3\u001b[39m \u001b[38;5;28;01mfrom\u001b[39;00m\u001b[38;5;250m \u001b[39m\u001b[34;01mnumpy\u001b[39;00m\u001b[34;01m.\u001b[39;00m\u001b[34;01mrandom\u001b[39;00m\u001b[38;5;250m \u001b[39m\u001b[38;5;28;01mimport\u001b[39;00m normal, uniform\n\u001b[32m      5\u001b[39m \u001b[38;5;28;01mimport\u001b[39;00m\u001b[38;5;250m \u001b[39m\u001b[34;01mmatplotlib\u001b[39;00m\u001b[34;01m.\u001b[39;00m\u001b[34;01mpyplot\u001b[39;00m\u001b[38;5;250m \u001b[39m\u001b[38;5;28;01mas\u001b[39;00m\u001b[38;5;250m \u001b[39m\u001b[34;01mplt\u001b[39;00m\n\u001b[32m----> \u001b[39m\u001b[32m7\u001b[39m \u001b[38;5;28;01mfrom\u001b[39;00m\u001b[38;5;250m \u001b[39m\u001b[34;01mCausalInferance\u001b[39;00m\u001b[34;01m.\u001b[39;00m\u001b[34;01mmethods\u001b[39;00m\u001b[38;5;250m \u001b[39m\u001b[38;5;28;01mimport\u001b[39;00m Causality\n\u001b[32m      9\u001b[39m \u001b[38;5;28;01mfrom\u001b[39;00m\u001b[38;5;250m \u001b[39m\u001b[34;01mCausalInferance\u001b[39;00m\u001b[34;01m.\u001b[39;00m\u001b[34;01mxicor\u001b[39;00m\u001b[38;5;250m \u001b[39m\u001b[38;5;28;01mimport\u001b[39;00m xicor\n\u001b[32m     11\u001b[39m \u001b[38;5;28;01mfrom\u001b[39;00m\u001b[38;5;250m \u001b[39m\u001b[34;01mCausalInferance\u001b[39;00m\u001b[34;01m.\u001b[39;00m\u001b[34;01minferance_test\u001b[39;00m\u001b[34;01m.\u001b[39;00m\u001b[34;01minformation_geometric_causal_inferance\u001b[39;00m\u001b[38;5;250m \u001b[39m\u001b[38;5;28;01mimport\u001b[39;00m IGCI\n",
      "\u001b[36mFile \u001b[39m\u001b[32m~/CausalInferance/CausalInferance/methods.py:5\u001b[39m\n\u001b[32m      2\u001b[39m \u001b[38;5;28;01mfrom\u001b[39;00m\u001b[38;5;250m \u001b[39m\u001b[34;01mdataclasses\u001b[39;00m\u001b[38;5;250m \u001b[39m\u001b[38;5;28;01mimport\u001b[39;00m dataclass\n\u001b[32m      3\u001b[39m \u001b[38;5;28;01mimport\u001b[39;00m\u001b[38;5;250m \u001b[39m\u001b[34;01mimportlib\u001b[39;00m\n\u001b[32m----> \u001b[39m\u001b[32m5\u001b[39m \u001b[43mimportlib\u001b[49m\u001b[43m.\u001b[49m\u001b[43mset_lazy_imports\u001b[49m(enabled=\u001b[38;5;28;01mTrue\u001b[39;00m)\n\u001b[32m      7\u001b[39m \u001b[38;5;28;01mimport\u001b[39;00m\u001b[38;5;250m \u001b[39m\u001b[34;01mnumpy\u001b[39;00m\u001b[38;5;250m \u001b[39m\u001b[38;5;28;01mas\u001b[39;00m\u001b[38;5;250m \u001b[39m\u001b[34;01mnp\u001b[39;00m\n\u001b[32m      8\u001b[39m \u001b[38;5;28;01mfrom\u001b[39;00m\u001b[38;5;250m \u001b[39m\u001b[34;01mnumpy\u001b[39;00m\u001b[34;01m.\u001b[39;00m\u001b[34;01mtyping\u001b[39;00m\u001b[38;5;250m \u001b[39m\u001b[38;5;28;01mimport\u001b[39;00m NDArray\n",
      "\u001b[31mAttributeError\u001b[39m: module 'importlib' has no attribute 'set_lazy_imports'"
     ]
    }
   ],
   "source": [
    "import numpy as np\n",
    "\n",
    "from numpy.random import normal, uniform\n",
    "\n",
    "import matplotlib.pyplot as plt\n",
    "\n",
    "from CausalInferance.methods import Causality\n",
    "\n",
    "from CausalInferance.xicor import xicor\n",
    "\n",
    "from CausalInferance.inferance_test.information_geometric_causal_inferance import IGCI\n",
    "\n",
    "from scipy.stats import pearsonr\n",
    "from scipy.stats import kendalltau\n",
    "\n",
    "from sklearn.linear_model import LinearRegression"
   ]
  },
  {
   "cell_type": "markdown",
   "id": "3f8af813",
   "metadata": {},
   "source": [
    "# Build Dataset"
   ]
  },
  {
   "cell_type": "code",
   "execution_count": 2,
   "id": "93607d0c",
   "metadata": {},
   "outputs": [
    {
     "ename": "NameError",
     "evalue": "name 'Causality' is not defined",
     "output_type": "error",
     "traceback": [
      "\u001b[31m---------------------------------------------------------------------------\u001b[39m",
      "\u001b[31mNameError\u001b[39m                                 Traceback (most recent call last)",
      "\u001b[36mCell\u001b[39m\u001b[36m \u001b[39m\u001b[32mIn[2]\u001b[39m\u001b[32m, line 10\u001b[39m\n\u001b[32m      6\u001b[39m y = y.reshape(-\u001b[32m1\u001b[39m, \u001b[32m1\u001b[39m)\n\u001b[32m      8\u001b[39m \u001b[38;5;66;03m# Get multi directional inference\u001b[39;00m\n\u001b[32m      9\u001b[39m \u001b[38;5;66;03m# p_x_y = corr(y-f(X), y) and p_y_x = corr(x-f(y), x)\u001b[39;00m\n\u001b[32m---> \u001b[39m\u001b[32m10\u001b[39m p_x_y, p_y_x = \u001b[43mCausality\u001b[49m.is_causal_two_sided(x, y, return_residuals=\u001b[38;5;28;01mFalse\u001b[39;00m, corr_metric=\u001b[33m'\u001b[39m\u001b[33mxicor\u001b[39m\u001b[33m'\u001b[39m)\n",
      "\u001b[31mNameError\u001b[39m: name 'Causality' is not defined"
     ]
    }
   ],
   "source": [
    "n = 100_000\n",
    "\n",
    "x = uniform(-1, 1, size = n)\n",
    "y = x/2 + uniform(-1, 1, size = n)\n",
    "x = x.reshape(-1, 1)\n",
    "y = y.reshape(-1, 1)\n",
    "\n",
    "# Get multi directional inference\n",
    "# p_x_y = corr(y-f(X), y) and p_y_x = corr(x-f(y), x)\n",
    "p_x_y, p_y_x = Causality.is_causal_two_sided(x, y, return_residuals=False, corr_metric='xicor')"
   ]
  },
  {
   "cell_type": "code",
   "execution_count": 10,
   "id": "0efbed51",
   "metadata": {},
   "outputs": [
    {
     "data": {
      "text/plain": [
       "(PearsonRResult(statistic=array([1.22514845e-16]), pvalue=array([1.])),\n",
       " PearsonRResult(statistic=array([3.79796021e-16]), pvalue=array([1.])))"
      ]
     },
     "execution_count": 10,
     "metadata": {},
     "output_type": "execute_result"
    }
   ],
   "source": [
    "p_x_y, p_y_x"
   ]
  },
  {
   "cell_type": "code",
   "execution_count": 11,
   "id": "cbe94eb6",
   "metadata": {},
   "outputs": [
    {
     "name": "stdout",
     "output_type": "stream",
     "text": [
      "[]\n",
      "[]\n",
      "[]\n",
      "[]\n",
      "[]\n",
      "[]\n"
     ]
    }
   ],
   "source": [
    "# C_x->y\n",
    "print(IGCI.main(x, y))\n",
    "\n",
    "# C_y->x\n",
    "print(IGCI.main(y, x))"
   ]
  },
  {
   "cell_type": "markdown",
   "id": "289ef1fb",
   "metadata": {},
   "source": [
    "# MultiVariantInferance"
   ]
  },
  {
   "cell_type": "code",
   "execution_count": null,
   "id": "56ab21fa",
   "metadata": {},
   "outputs": [],
   "source": [
    "# Data\n",
    "n = 1_000\n",
    "i = 10\n",
    "\n",
    "iters = 10_000\n",
    "\n",
    "tracker = 0\n",
    "\n",
    "for _ in range(iters):\n",
    "\n",
    "    x = uniform(-1, 1, size=(n, i))\n",
    "    y = x / 2 + uniform(-1, 1, size=(n, i))\n",
    "\n",
    "    model = LinearRegression()\n",
    "    model.fit(x, y)\n",
    "\n",
    "    cov_x = np.cov(x, rowvar=False)\n",
    "    cov_y = np.cov(y, rowvar=False)\n",
    "\n",
    "    numerator = (model.coef_ @ cov_x @ model.coef_.T).trace()\n",
    "    denumerator = (model.coef_ @ model.coef_.T).trace() * cov_x.trace()\n",
    "    r_x_y = numerator / denumerator\n",
    "\n",
    "    model = LinearRegression()\n",
    "    model.fit(y, x)\n",
    "\n",
    "    numerator = (model.coef_ @ cov_y @ model.coef_.T).trace()\n",
    "    denumerator = (model.coef_ @ model.coef_.T).trace() * cov_y.trace()\n",
    "    r_y_x = numerator / denumerator\n",
    "\n",
    "    if r_x_y>r_y_x:\n",
    "        tracker += 1"
   ]
  }
 ],
 "metadata": {
  "kernelspec": {
   "display_name": ".venv",
   "language": "python",
   "name": "python3"
  },
  "language_info": {
   "codemirror_mode": {
    "name": "ipython",
    "version": 3
   },
   "file_extension": ".py",
   "mimetype": "text/x-python",
   "name": "python",
   "nbconvert_exporter": "python",
   "pygments_lexer": "ipython3",
   "version": "3.12.3"
  }
 },
 "nbformat": 4,
 "nbformat_minor": 5
}
